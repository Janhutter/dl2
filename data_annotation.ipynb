{
 "cells": [
  {
   "cell_type": "code",
   "execution_count": 63,
   "id": "b9fdc8ae",
   "metadata": {},
   "outputs": [],
   "source": [
    "import pandas as pd\n",
    "from io import StringIO\n",
    "import numpy as np\n",
    "results = {}\n",
    "cleans = []\n",
    "seeds = [1, 17, 36, 91, 511]\n",
    "dataset = 'cifar100'\n",
    "\n",
    "# with open(f'logs/{dataset}_energy_1_vit.log') as f:\n",
    "#     data = f.read()\n",
    "#     # find all the lines with first part of acc % [shot_noise5]: 40.41% in them\n",
    "#     lines_data = data.split('\\n')\n",
    "#     lines = [line for line in lines_data if 'acc %' in line]\n",
    "#     # extract the intensity number after the corruption type. should be just the number without the shot_noise part\n",
    "#     new_lines = [float(line.split('acc %')[1].split(':')[1].strip().replace('%', '')) for line in lines]\n",
    "#     # split on the last ]\n",
    "#     intensity = [int(line.split(']')[-2][-1]) for line in lines]\n",
    "#     names = [line.split(']')[-2].split('[')[-1][:-1] for line in lines]\n",
    "#     for inten, value, name in zip(intensity, new_lines, names):\n",
    "#         if inten not in results:\n",
    "#             results[inten] = []\n",
    "#         results[inten].append(value)\n",
    "#         clean = [float(line.split('Test set Accuracy:')[-1]) for line in lines_data if 'Test set Accuracy:' in line]\n",
    "#         cleans.append(clean[0])\n",
    "\n",
    "for seed in seeds:\n",
    "    for item in ['', '_2']:\n",
    "        with open(f'logs/{dataset}_energy_{seed}_vit{item}.log') as f:\n",
    "            data = f.read()\n",
    "            # find all the lines with first part of acc % [shot_noise5]: 40.41% in them\n",
    "            lines_data = data.split('\\n')\n",
    "            lines = [line for line in lines_data if 'acc %' in line]\n",
    "            # extract the intensity number after the corruption type. should be just the number without the shot_noise part\n",
    "            new_lines = [float(line.split('acc %')[1].split(':')[1].strip().replace('%', '')) for line in lines]\n",
    "            # split on the last ]\n",
    "            intensity = [int(line.split(']')[-2][-1]) for line in lines]\n",
    "            names = [line.split(']')[-2].split('[')[-1][:-1] for line in lines]\n",
    "            for inten, value, name in zip(intensity, new_lines, names):\n",
    "                if ('jpeg_compression' not in name and item == '') or item == '_2':\n",
    "                    if inten not in results:\n",
    "                        results[inten] = []\n",
    "                    results[inten].append(value)\n",
    "                if item == '_2':\n",
    "                    clean = [float(line.split('Test set Accuracy:')[-1]) for line in lines_data if 'Test set Accuracy:' in line]\n",
    "                    cleans.append(clean[0])\n",
    "baselines = {}\n",
    "for seed in [1, 17, 36, 91, 511]:\n",
    "    with open(f'logs/{dataset}_source_{seed}_vit.log') as f:\n",
    "        data = f.read()\n",
    "        # find all the lines with first part of acc % [shot_noise5]: 40.41% in them\n",
    "        lines_data = data.split('\\n')\n",
    "        lines = [line for line in lines_data if 'acc %' in line]\n",
    "        # extract the intensity number after the corruption type. should be just the number without the shot_noise part\n",
    "        new_lines = [float(line.split('acc %')[1].split(':')[1].strip().replace('%', '')) for line in lines]\n",
    "        # split on the last ]\n",
    "        intensity = [int(line.split(']')[-2][-1]) for line in lines]\n",
    "        names = [line.split(']')[-2].split('[')[-1][:-1] for line in lines]\n",
    "        for inten, value, name in zip(intensity, new_lines, names):\n",
    "            if inten not in baselines:\n",
    "                baselines[inten] = []\n",
    "            baselines[inten].append(value)\n",
    "            \n"
   ]
  },
  {
   "cell_type": "code",
   "execution_count": 64,
   "id": "7e88dc01",
   "metadata": {},
   "outputs": [
    {
     "data": {
      "text/plain": [
       "60.757333333333335"
      ]
     },
     "execution_count": 64,
     "metadata": {},
     "output_type": "execute_result"
    }
   ],
   "source": [
    "np.array(results[5]).mean()"
   ]
  },
  {
   "cell_type": "code",
   "execution_count": 65,
   "id": "eebb8244",
   "metadata": {},
   "outputs": [
    {
     "data": {
      "text/plain": [
       "array([40.01, 42.47, 38.52, 74.04, 31.27, 68.52, 77.35, 73.89, 71.05,\n",
       "       61.92, 86.59, 50.53, 56.5 , 35.4 , 63.04, 40.01, 42.47, 38.52,\n",
       "       74.04, 31.27, 68.52, 77.35, 73.89, 71.05, 61.92, 86.59, 50.53,\n",
       "       56.5 , 35.4 , 63.04, 40.01, 42.47, 38.52, 74.04, 31.27, 68.52,\n",
       "       77.35, 73.89, 71.05, 61.92, 86.59, 50.53, 56.5 , 35.4 , 63.04,\n",
       "       40.01, 42.47, 38.52, 74.04, 31.27, 68.52, 77.35, 73.89, 71.05,\n",
       "       61.92, 86.59, 50.53, 56.5 , 35.4 , 63.04, 40.01, 42.47, 38.52,\n",
       "       74.04, 31.27, 68.52, 77.35, 73.89, 71.05, 61.92, 86.59, 50.53,\n",
       "       56.5 , 35.4 , 63.04])"
      ]
     },
     "execution_count": 65,
     "metadata": {},
     "output_type": "execute_result"
    }
   ],
   "source": [
    "np.array(baselines[5])"
   ]
  },
  {
   "cell_type": "code",
   "execution_count": 66,
   "id": "234e9d3b",
   "metadata": {},
   "outputs": [
    {
     "data": {
      "text/plain": [
       "76.00954666666667"
      ]
     },
     "execution_count": 66,
     "metadata": {},
     "output_type": "execute_result"
    }
   ],
   "source": [
    "np.array(list(results.values())).mean()"
   ]
  },
  {
   "cell_type": "code",
   "execution_count": 67,
   "id": "8feaebd5",
   "metadata": {},
   "outputs": [
    {
     "data": {
      "text/plain": [
       "73.64773333333333"
      ]
     },
     "execution_count": 67,
     "metadata": {},
     "output_type": "execute_result"
    }
   ],
   "source": [
    "np.array(list(baselines.values())).mean()"
   ]
  },
  {
   "cell_type": "code",
   "execution_count": 68,
   "id": "7f6df91a",
   "metadata": {},
   "outputs": [
    {
     "data": {
      "text/plain": [
       "0.9701490326672488"
      ]
     },
     "execution_count": 68,
     "metadata": {},
     "output_type": "execute_result"
    }
   ],
   "source": [
    "np.mean((100-np.array(results[1])) / (100-np.array(baselines[1])))"
   ]
  },
  {
   "cell_type": "code",
   "execution_count": 69,
   "id": "48cb5935",
   "metadata": {},
   "outputs": [
    {
     "data": {
      "text/plain": [
       "0.9103753250827255"
      ]
     },
     "execution_count": 69,
     "metadata": {},
     "output_type": "execute_result"
    }
   ],
   "source": [
    "np.mean((100-np.array(list(results.values())).mean()) / (100-np.array(list(baselines.values())).mean()))"
   ]
  },
  {
   "cell_type": "code",
   "execution_count": 46,
   "id": "a4239c1d",
   "metadata": {},
   "outputs": [
    {
     "data": {
      "text/plain": [
       "76.00954666666667"
      ]
     },
     "execution_count": 46,
     "metadata": {},
     "output_type": "execute_result"
    }
   ],
   "source": [
    "np.mean(list(results.values()))"
   ]
  },
  {
   "cell_type": "code",
   "execution_count": 37,
   "id": "458e85a9",
   "metadata": {},
   "outputs": [
    {
     "data": {
      "text/plain": [
       "0.9839473684210525"
      ]
     },
     "execution_count": 37,
     "metadata": {},
     "output_type": "execute_result"
    }
   ],
   "source": [
    "np.mean(cleans)"
   ]
  },
  {
   "cell_type": "code",
   "execution_count": 4,
   "id": "eeac98ae",
   "metadata": {},
   "outputs": [
    {
     "name": "stderr",
     "output_type": "stream",
     "text": [
      "/scratch-local/67391/ipykernel_2488138/3878149661.py:114: FutureWarning: The 'delim_whitespace' keyword in pd.read_csv is deprecated and will be removed in a future version. Use ``sep='\\s+'`` instead\n",
      "  df_new_1 = pd.read_csv(StringIO(new_1), delim_whitespace=True, index_col=0)\n",
      "/scratch-local/67391/ipykernel_2488138/3878149661.py:118: FutureWarning: The 'delim_whitespace' keyword in pd.read_csv is deprecated and will be removed in a future version. Use ``sep='\\s+'`` instead\n",
      "  df_new_17 = pd.read_csv(StringIO(new_17), delim_whitespace=True, index_col=0)\n",
      "/scratch-local/67391/ipykernel_2488138/3878149661.py:122: FutureWarning: The 'delim_whitespace' keyword in pd.read_csv is deprecated and will be removed in a future version. Use ``sep='\\s+'`` instead\n",
      "  df_new_36 = pd.read_csv(StringIO(new_36), delim_whitespace=True, index_col=0)\n",
      "/scratch-local/67391/ipykernel_2488138/3878149661.py:126: FutureWarning: The 'delim_whitespace' keyword in pd.read_csv is deprecated and will be removed in a future version. Use ``sep='\\s+'`` instead\n",
      "  df_new_91 = pd.read_csv(StringIO(new_91), delim_whitespace=True, index_col=0)\n",
      "/scratch-local/67391/ipykernel_2488138/3878149661.py:130: FutureWarning: The 'delim_whitespace' keyword in pd.read_csv is deprecated and will be removed in a future version. Use ``sep='\\s+'`` instead\n",
      "  df_new_511 = pd.read_csv(StringIO(new_511), delim_whitespace=True, index_col=0)\n",
      "/scratch-local/67391/ipykernel_2488138/3878149661.py:243: FutureWarning: The 'delim_whitespace' keyword in pd.read_csv is deprecated and will be removed in a future version. Use ``sep='\\s+'`` instead\n",
      "  df_baseline_1 = pd.read_csv(StringIO(baseline_1), delim_whitespace=True, index_col=0)\n",
      "/scratch-local/67391/ipykernel_2488138/3878149661.py:247: FutureWarning: The 'delim_whitespace' keyword in pd.read_csv is deprecated and will be removed in a future version. Use ``sep='\\s+'`` instead\n",
      "  df_baseline_17 = pd.read_csv(StringIO(baseline_17), delim_whitespace=True, index_col=0)\n",
      "/scratch-local/67391/ipykernel_2488138/3878149661.py:251: FutureWarning: The 'delim_whitespace' keyword in pd.read_csv is deprecated and will be removed in a future version. Use ``sep='\\s+'`` instead\n",
      "  df_baseline_36 = pd.read_csv(StringIO(baseline_36), delim_whitespace=True, index_col=0)\n",
      "/scratch-local/67391/ipykernel_2488138/3878149661.py:255: FutureWarning: The 'delim_whitespace' keyword in pd.read_csv is deprecated and will be removed in a future version. Use ``sep='\\s+'`` instead\n",
      "  df_baseline_91 = pd.read_csv(StringIO(baseline_91), delim_whitespace=True, index_col=0)\n",
      "/scratch-local/67391/ipykernel_2488138/3878149661.py:259: FutureWarning: The 'delim_whitespace' keyword in pd.read_csv is deprecated and will be removed in a future version. Use ``sep='\\s+'`` instead\n",
      "  df_baseline_511 = pd.read_csv(StringIO(baseline_511), delim_whitespace=True, index_col=0)\n"
     ]
    }
   ],
   "source": [
    "import pandas as pd\n",
    "from io import StringIO\n",
    "import numpy as np\n",
    "\n",
    "new_1 = \"\"\"\n",
    "                          1         2         3        4         5       avg\n",
    "gaussian_noise     0.780400  0.804100  0.825000  0.86180  0.897900  0.833840\n",
    "shot_noise         0.798500  0.839500  0.851600  0.89850  0.914900  0.860600\n",
    "impulse_noise      0.708900  0.766600  0.835300  0.86590  0.902700  0.815880\n",
    "defocus_blur       0.888900  0.920700  0.937000  0.93940  0.941200  0.925440\n",
    "glass_blur         0.712900  0.714700  0.806200  0.80320  0.811400  0.769680\n",
    "motion_blur        0.878700  0.897400  0.894700  0.91030  0.925300  0.901280\n",
    "zoom_blur          0.898300  0.913300  0.923200  0.93050  0.930500  0.919160\n",
    "snow               0.855900  0.857900  0.880900  0.88630  0.912800  0.878760\n",
    "frost              0.851900  0.879800  0.876100  0.90370  0.923100  0.886920\n",
    "fog                0.876300  0.921000  0.932900  0.93850  0.940000  0.921740\n",
    "brightness         0.923500  0.934600  0.936700  0.93950  0.940700  0.935000\n",
    "contrast           0.889700  0.920300  0.928400  0.93320  0.939900  0.922300\n",
    "elastic_transform  0.793100  0.860000  0.908300  0.91900  0.913500  0.878780\n",
    "pixelate           0.849300  0.888600  0.910400  0.91780  0.927500  0.898720\n",
    "jpeg_compression   0.791200  0.811900  0.834200  0.84400  0.884800  0.833220\n",
    "average            0.833167  0.862027  0.885393  0.89944  0.913747  0.878755\n",
    "\"\"\"\n",
    "new_1_clean = 0.9419\n",
    "\n",
    "new_17 = \"\"\"\n",
    "                          1         2        3         4         5       avg\n",
    "gaussian_noise     0.780700  0.803800  0.82510  0.861300  0.898000  0.833780\n",
    "shot_noise         0.798200  0.839900  0.85240  0.898600  0.914600  0.860740\n",
    "impulse_noise      0.708700  0.766400  0.83520  0.865800  0.902600  0.815740\n",
    "defocus_blur       0.889600  0.920700  0.93690  0.939600  0.941000  0.925560\n",
    "glass_blur         0.712600  0.715100  0.80560  0.802800  0.812300  0.769680\n",
    "motion_blur        0.878000  0.897300  0.89440  0.909900  0.924800  0.900880\n",
    "zoom_blur          0.897500  0.912900  0.92280  0.929900  0.931000  0.918820\n",
    "snow               0.855500  0.857700  0.88110  0.885900  0.913600  0.878760\n",
    "frost              0.852200  0.880000  0.87660  0.902700  0.923000  0.886900\n",
    "fog                0.875800  0.922000  0.93230  0.938400  0.940600  0.921820\n",
    "brightness         0.923700  0.935000  0.93700  0.939200  0.940500  0.935080\n",
    "contrast           0.889900  0.920600  0.92780  0.932900  0.939300  0.922100\n",
    "elastic_transform  0.793400  0.860100  0.90840  0.919400  0.913200  0.878900\n",
    "pixelate           0.849400  0.888300  0.91040  0.916700  0.927000  0.898360\n",
    "jpeg_compression   0.790800  0.811500  0.83440  0.844200  0.883800  0.832940\n",
    "average            0.833067  0.862087  0.88536  0.899153  0.913687  0.878671\n",
    "\"\"\"\n",
    "new_17_clean = 0.942\n",
    "\n",
    "new_36 = \"\"\"\n",
    "                          1         2         3         4         5       avg\n",
    "gaussian_noise     0.781100  0.803900  0.825200  0.862300  0.898100  0.834120\n",
    "shot_noise         0.798100  0.840100  0.852900  0.898600  0.914800  0.860900\n",
    "impulse_noise      0.709100  0.766400  0.835100  0.865500  0.903000  0.815820\n",
    "defocus_blur       0.890100  0.920600  0.937300  0.939600  0.941200  0.925760\n",
    "glass_blur         0.714100  0.715400  0.806600  0.803300  0.812700  0.770420\n",
    "motion_blur        0.878300  0.897900  0.894400  0.909500  0.924900  0.901000\n",
    "zoom_blur          0.898000  0.912900  0.922800  0.930400  0.930700  0.918960\n",
    "snow               0.855400  0.858100  0.881100  0.885400  0.913200  0.878640\n",
    "frost              0.852300  0.879200  0.876300  0.903500  0.922700  0.886800\n",
    "fog                0.876000  0.921900  0.932900  0.939300  0.940000  0.922020\n",
    "brightness         0.923500  0.934500  0.936500  0.939800  0.941000  0.935060\n",
    "contrast           0.890200  0.920100  0.928500  0.933200  0.939600  0.922320\n",
    "elastic_transform  0.793200  0.859600  0.908700  0.919200  0.913300  0.878800\n",
    "pixelate           0.849500  0.888500  0.909800  0.917300  0.927100  0.898440\n",
    "jpeg_compression   0.790200  0.811400  0.833300  0.844200  0.884200  0.832660\n",
    "average            0.833273  0.862033  0.885427  0.899407  0.913767  0.878781\n",
    "\"\"\"\n",
    "\n",
    "new_36_clean = 0.9417\n",
    "\n",
    "new_91 = \"\"\"\n",
    "                          1         2         3         4         5       avg\n",
    "gaussian_noise     0.780300  0.803800  0.825000  0.862500  0.898500  0.834020\n",
    "shot_noise         0.799000  0.839100  0.852100  0.898400  0.914500  0.860620\n",
    "impulse_noise      0.708500  0.765900  0.835600  0.865800  0.902700  0.815700\n",
    "defocus_blur       0.889700  0.920600  0.937100  0.939500  0.941200  0.925620\n",
    "glass_blur         0.713400  0.716100  0.805600  0.802900  0.812100  0.770020\n",
    "motion_blur        0.878200  0.897800  0.894400  0.909800  0.925500  0.901140\n",
    "zoom_blur          0.897600  0.912900  0.922600  0.930200  0.930500  0.918760\n",
    "snow               0.855500  0.858000  0.881000  0.886000  0.913200  0.878740\n",
    "frost              0.852500  0.880100  0.877300  0.903500  0.923100  0.887300\n",
    "fog                0.875900  0.922100  0.932300  0.938200  0.940200  0.921740\n",
    "brightness         0.922900  0.934000  0.936600  0.939200  0.940800  0.934700\n",
    "contrast           0.890000  0.920100  0.928100  0.932700  0.939400  0.922060\n",
    "elastic_transform  0.793300  0.859800  0.908300  0.919100  0.914400  0.878980\n",
    "pixelate           0.849300  0.888100  0.910100  0.917400  0.927700  0.898520\n",
    "jpeg_compression   0.790500  0.811800  0.834700  0.843900  0.884900  0.833160\n",
    "average            0.833107  0.862013  0.885387  0.899273  0.913913  0.878739\n",
    "\"\"\"\n",
    "\n",
    "new_91_clean = 0.9414\n",
    "\n",
    "new_511 = \"\"\"\n",
    "                         1         2       3         4         5       avg\n",
    "gaussian_noise     0.78140  0.803500  0.8255  0.862300  0.898700  0.834280\n",
    "shot_noise         0.79830  0.840000  0.8522  0.898500  0.914500  0.860700\n",
    "impulse_noise      0.70940  0.766000  0.8350  0.866100  0.903000  0.815900\n",
    "defocus_blur       0.89000  0.920700  0.9375  0.939800  0.941300  0.925860\n",
    "glass_blur         0.71290  0.714600  0.8062  0.803100  0.812000  0.769760\n",
    "motion_blur        0.87790  0.897500  0.8945  0.909900  0.924700  0.900900\n",
    "zoom_blur          0.89710  0.913000  0.9228  0.930800  0.930600  0.918860\n",
    "snow               0.85530  0.858000  0.8807  0.886000  0.913700  0.878740\n",
    "frost              0.85240  0.879800  0.8763  0.903100  0.923400  0.887000\n",
    "fog                0.87620  0.922100  0.9330  0.938800  0.940100  0.922040\n",
    "brightness         0.92260  0.934800  0.9370  0.939600  0.941100  0.935020\n",
    "contrast           0.89010  0.920300  0.9278  0.933300  0.939300  0.922160\n",
    "elastic_transform  0.79320  0.859600  0.9087  0.919400  0.913500  0.878880\n",
    "pixelate           0.84950  0.888500  0.9100  0.918000  0.927700  0.898740\n",
    "jpeg_compression   0.79080  0.812300  0.8338  0.844900  0.883800  0.833120\n",
    "average            0.83314  0.862047  0.8854  0.899573  0.913827  0.878797\n",
    "\"\"\"\n",
    "\n",
    "new_511_clean = 0.9417\n",
    "\n",
    "\n",
    "df_new_1 = pd.read_csv(StringIO(new_1), delim_whitespace=True, index_col=0)\n",
    "# remove average row\n",
    "df_new_1 = df_new_1.drop(\"average\")\n",
    "\n",
    "df_new_17 = pd.read_csv(StringIO(new_17), delim_whitespace=True, index_col=0)\n",
    "# remove average row\n",
    "df_new_17 = df_new_17.drop(\"average\")\n",
    "\n",
    "df_new_36 = pd.read_csv(StringIO(new_36), delim_whitespace=True, index_col=0)\n",
    "# remove average row\n",
    "df_new_36 = df_new_36.drop(\"average\")\n",
    "\n",
    "df_new_91 = pd.read_csv(StringIO(new_91), delim_whitespace=True, index_col=0)\n",
    "# remove average row\n",
    "df_new_91 = df_new_91.drop(\"average\")\n",
    "\n",
    "df_new_511 = pd.read_csv(StringIO(new_511), delim_whitespace=True, index_col=0)\n",
    "# remove average row\n",
    "df_new_511 = df_new_511.drop(\"average\")\n",
    "\n",
    "\n",
    "baseline_1 = \"\"\"\n",
    "                          1         2         3       4         5      avg\n",
    "gaussian_noise     0.276800  0.326100  0.391900  0.5787  0.778200  0.47034\n",
    "shot_noise         0.342600  0.453200  0.534900  0.7575  0.850500  0.58774\n",
    "impulse_noise      0.270700  0.400900  0.573700  0.6905  0.828600  0.55288\n",
    "defocus_blur       0.530100  0.774400  0.889800  0.9339  0.945700  0.81478\n",
    "glass_blur         0.456700  0.431800  0.569700  0.5576  0.534500  0.51006\n",
    "motion_blur        0.652400  0.747900  0.744100  0.8383  0.902800  0.77710\n",
    "zoom_blur          0.579900  0.702700  0.774400  0.8456  0.877100  0.75594\n",
    "snow               0.748700  0.805000  0.836400  0.8042  0.899400  0.81874\n",
    "frost              0.586800  0.708900  0.726000  0.8349  0.895300  0.75038\n",
    "fog                0.739800  0.896000  0.922900  0.9354  0.945200  0.88786\n",
    "brightness         0.907000  0.928200  0.938000  0.9440  0.947300  0.93290\n",
    "contrast           0.533600  0.835900  0.896600  0.9214  0.942600  0.82602\n",
    "elastic_transform  0.734000  0.789600  0.858400  0.9020  0.904900  0.83778\n",
    "pixelate           0.415600  0.603500  0.799800  0.8603  0.919700  0.71978\n",
    "jpeg_compression   0.697200  0.741400  0.780000  0.7967  0.863700  0.77580\n",
    "average            0.564793  0.676367  0.749107  0.8134  0.869033  0.73454\n",
    "\"\"\"\n",
    "\n",
    "baseline_1_clean = 0.9477\n",
    "\n",
    "baseline_17 = \"\"\"\n",
    "                          1         2         3       4         5      avg\n",
    "gaussian_noise     0.276800  0.326100  0.391900  0.5787  0.778200  0.47034\n",
    "shot_noise         0.342600  0.453200  0.534900  0.7575  0.850500  0.58774\n",
    "impulse_noise      0.270700  0.400900  0.573700  0.6905  0.828600  0.55288\n",
    "defocus_blur       0.530100  0.774400  0.889800  0.9339  0.945700  0.81478\n",
    "glass_blur         0.456700  0.431800  0.569700  0.5576  0.534500  0.51006\n",
    "motion_blur        0.652400  0.747900  0.744100  0.8383  0.902800  0.77710\n",
    "zoom_blur          0.579900  0.702700  0.774400  0.8456  0.877100  0.75594\n",
    "snow               0.748700  0.805000  0.836400  0.8042  0.899400  0.81874\n",
    "frost              0.586800  0.708900  0.726000  0.8349  0.895300  0.75038\n",
    "fog                0.739800  0.896000  0.922900  0.9354  0.945200  0.88786\n",
    "brightness         0.907000  0.928200  0.938000  0.9440  0.947300  0.93290\n",
    "contrast           0.533600  0.835900  0.896600  0.9214  0.942600  0.82602\n",
    "elastic_transform  0.734000  0.789600  0.858400  0.9020  0.904900  0.83778\n",
    "pixelate           0.415600  0.603500  0.799800  0.8603  0.919700  0.71978\n",
    "jpeg_compression   0.697200  0.741400  0.780000  0.7967  0.863700  0.77580\n",
    "average            0.564793  0.676367  0.749107  0.8134  0.869033  0.73454\n",
    "\"\"\"\n",
    "\n",
    "baseline_17_clean = 0.9477\n",
    "\n",
    "baseline_36 = \"\"\"\n",
    "                          1         2         3       4         5      avg\n",
    "gaussian_noise     0.276800  0.326100  0.391900  0.5787  0.778200  0.47034\n",
    "shot_noise         0.342600  0.453200  0.534900  0.7575  0.850500  0.58774\n",
    "impulse_noise      0.270700  0.400900  0.573700  0.6905  0.828600  0.55288\n",
    "defocus_blur       0.530100  0.774400  0.889800  0.9339  0.945700  0.81478\n",
    "glass_blur         0.456700  0.431800  0.569700  0.5576  0.534500  0.51006\n",
    "motion_blur        0.652400  0.747900  0.744100  0.8383  0.902800  0.77710\n",
    "zoom_blur          0.579900  0.702700  0.774400  0.8456  0.877100  0.75594\n",
    "snow               0.748700  0.805000  0.836400  0.8042  0.899400  0.81874\n",
    "frost              0.586800  0.708900  0.726000  0.8349  0.895300  0.75038\n",
    "fog                0.739800  0.896000  0.922900  0.9354  0.945200  0.88786\n",
    "brightness         0.907000  0.928200  0.938000  0.9440  0.947300  0.93290\n",
    "contrast           0.533600  0.835900  0.896600  0.9214  0.942600  0.82602\n",
    "elastic_transform  0.734000  0.789600  0.858400  0.9020  0.904900  0.83778\n",
    "pixelate           0.415600  0.603500  0.799800  0.8603  0.919700  0.71978\n",
    "jpeg_compression   0.697200  0.741400  0.780000  0.7967  0.863700  0.77580\n",
    "average            0.564793  0.676367  0.749107  0.8134  0.869033  0.73454\n",
    "\"\"\"\n",
    "\n",
    "baseline_36_clean = 0.9477\n",
    "\n",
    "baseline_91 = \"\"\"\n",
    "                          1         2         3       4         5      avg\n",
    "gaussian_noise     0.276800  0.326100  0.391900  0.5787  0.778200  0.47034\n",
    "shot_noise         0.342600  0.453200  0.534900  0.7575  0.850500  0.58774\n",
    "impulse_noise      0.270700  0.400900  0.573700  0.6905  0.828600  0.55288\n",
    "defocus_blur       0.530100  0.774400  0.889800  0.9339  0.945700  0.81478\n",
    "glass_blur         0.456700  0.431800  0.569700  0.5576  0.534500  0.51006\n",
    "motion_blur        0.652400  0.747900  0.744100  0.8383  0.902800  0.77710\n",
    "zoom_blur          0.579900  0.702700  0.774400  0.8456  0.877100  0.75594\n",
    "snow               0.748700  0.805000  0.836400  0.8042  0.899400  0.81874\n",
    "frost              0.586800  0.708900  0.726000  0.8349  0.895300  0.75038\n",
    "fog                0.739800  0.896000  0.922900  0.9354  0.945200  0.88786\n",
    "brightness         0.907000  0.928200  0.938000  0.9440  0.947300  0.93290\n",
    "contrast           0.533600  0.835900  0.896600  0.9214  0.942600  0.82602\n",
    "elastic_transform  0.734000  0.789600  0.858400  0.9020  0.904900  0.83778\n",
    "pixelate           0.415600  0.603500  0.799800  0.8603  0.919700  0.71978\n",
    "jpeg_compression   0.697200  0.741400  0.780000  0.7967  0.863700  0.77580\n",
    "average            0.564793  0.676367  0.749107  0.8134  0.869033  0.73454\n",
    "\"\"\"\n",
    "baseline_91_clean = 0.9477\n",
    "\n",
    "baseline_511 = \"\"\"\n",
    "                          1         2         3       4         5      avg\n",
    "gaussian_noise     0.276800  0.326100  0.391900  0.5787  0.778200  0.47034\n",
    "shot_noise         0.342600  0.453200  0.534900  0.7575  0.850500  0.58774\n",
    "impulse_noise      0.270700  0.400900  0.573700  0.6905  0.828600  0.55288\n",
    "defocus_blur       0.530100  0.774400  0.889800  0.9339  0.945700  0.81478\n",
    "glass_blur         0.456700  0.431800  0.569700  0.5576  0.534500  0.51006\n",
    "motion_blur        0.652400  0.747900  0.744100  0.8383  0.902800  0.77710\n",
    "zoom_blur          0.579900  0.702700  0.774400  0.8456  0.877100  0.75594\n",
    "snow               0.748700  0.805000  0.836400  0.8042  0.899400  0.81874\n",
    "frost              0.586800  0.708900  0.726000  0.8349  0.895300  0.75038\n",
    "fog                0.739800  0.896000  0.922900  0.9354  0.945200  0.88786\n",
    "brightness         0.907000  0.928200  0.938000  0.9440  0.947300  0.93290\n",
    "contrast           0.533600  0.835900  0.896600  0.9214  0.942600  0.82602\n",
    "elastic_transform  0.734000  0.789600  0.858400  0.9020  0.904900  0.83778\n",
    "pixelate           0.415600  0.603500  0.799800  0.8603  0.919700  0.71978\n",
    "jpeg_compression   0.697200  0.741400  0.780000  0.7967  0.863700  0.77580\n",
    "average            0.564793  0.676367  0.749107  0.8134  0.869033  0.73454\n",
    "\"\"\"\n",
    "baseline_511_clean = 0.9477\n",
    "\n",
    "df_baseline_1 = pd.read_csv(StringIO(baseline_1), delim_whitespace=True, index_col=0)\n",
    "# remove average row\n",
    "df_baseline_1 = df_baseline_1.drop(\"average\")\n",
    "\n",
    "df_baseline_17 = pd.read_csv(StringIO(baseline_17), delim_whitespace=True, index_col=0)\n",
    "# remove average row\n",
    "df_baseline_17 = df_baseline_17.drop(\"average\")\n",
    "\n",
    "df_baseline_36 = pd.read_csv(StringIO(baseline_36), delim_whitespace=True, index_col=0)\n",
    "# remove average row\n",
    "df_baseline_36 = df_baseline_36.drop(\"average\")\n",
    "\n",
    "df_baseline_91 = pd.read_csv(StringIO(baseline_91), delim_whitespace=True, index_col=0)\n",
    "# remove average row\n",
    "df_baseline_91 = df_baseline_91.drop(\"average\")\n",
    "\n",
    "df_baseline_511 = pd.read_csv(StringIO(baseline_511), delim_whitespace=True, index_col=0)\n",
    "# remove average row\n",
    "df_baseline_511 = df_baseline_511.drop(\"average\")\n",
    "\n",
    "# List of seeds to be used for the test\n",
    "\n",
    "seeds = [1, 17, 36, 91, 511]\n",
    "\n"
   ]
  },
  {
   "cell_type": "code",
   "execution_count": 9,
   "id": "86d1d890",
   "metadata": {},
   "outputs": [
    {
     "name": "stdout",
     "output_type": "stream",
     "text": [
      "mean clean acc: 0.9417399999999999\n",
      "Average acc 5: 0.8331506666666666\n",
      "mean CE 5: 0.4374558120208601\n",
      "Average acc: 0.8787485333333334\n",
      "mean CE: 0.5773451887695518\n"
     ]
    }
   ],
   "source": [
    "# this is for a single seed\n",
    "# number = (1-df_new['1'])/(1-df_baseline['1'])\n",
    "# # mean\n",
    "# number_mean = number.mean()\n",
    "# print(number_mean)\n",
    "\n",
    "# now for all seeds\n",
    "# create a list of dataframes\n",
    "df_list = [df_new_1, df_new_17, df_new_36, df_new_91, df_new_511]\n",
    "df_baseline_list = [df_baseline_1, df_baseline_17, df_baseline_36, df_baseline_91, df_baseline_511]\n",
    "# create a list of clean numbers\n",
    "clean_list = [new_1_clean, new_17_clean, new_36_clean, new_91_clean, new_511_clean]\n",
    "# create a list of baseline clean numbers\n",
    "baseline_clean_list = [baseline_1_clean, baseline_17_clean, baseline_36_clean, baseline_91_clean, baseline_511_clean]\n",
    "\n",
    "numbers = []\n",
    "mean_numbers_5 = []\n",
    "mean_numbers_all = []\n",
    "numbers_all = []\n",
    "\n",
    "mean_clean_numbers = []\n",
    "mean_baseline_clean_numbers = []\n",
    "\n",
    "for i in range(len(df_list)):\n",
    "    number = (1 - df_list[i]['1']) / (1 - df_baseline_list[i]['1'])\n",
    "    number_mean = number.mean()\n",
    "    mean_numbers_5.append(number_mean)\n",
    "\n",
    "    numbers.append(df_list[i]['1'])\n",
    "\n",
    "    number = (1 - df_list[i]) / (1 - df_baseline_list[i])\n",
    "    number_mean = number.mean()\n",
    "    mean_numbers_all.append(number_mean.mean())\n",
    "    numbers_all.append(df_list[i].mean())\n",
    "\n",
    "    mean_clean_numbers.append(clean_list[i])\n",
    "    # append the baseline clean number to the list\n",
    "    mean_baseline_clean_numbers.append(baseline_clean_list[i])\n",
    "\n",
    "print(f'mean clean acc: {np.mean(mean_clean_numbers)}')\n",
    "print(f'Average acc 5: {np.mean(numbers)}')\n",
    "print(f'mean CE 5: {np.mean(mean_numbers_5)}')\n",
    "print(f'Average acc: {np.mean(numbers_all)}')\n",
    "print(f'mean CE: {np.mean(mean_numbers_all)}')\n"
   ]
  },
  {
   "cell_type": "code",
   "execution_count": 36,
   "id": "a71b8cba",
   "metadata": {},
   "outputs": [
    {
     "name": "stdout",
     "output_type": "stream",
     "text": [
      "0.5772500490404283\n"
     ]
    }
   ],
   "source": [
    "number = (1-df_new)/(1-df_baseline)\n",
    "number_mean = number.mean().mean()\n",
    "print(number_mean)\n"
   ]
  },
  {
   "cell_type": "code",
   "execution_count": null,
   "id": "0317f454",
   "metadata": {},
   "outputs": [],
   "source": []
  }
 ],
 "metadata": {
  "kernelspec": {
   "display_name": "rag_env",
   "language": "python",
   "name": "python3"
  },
  "language_info": {
   "codemirror_mode": {
    "name": "ipython",
    "version": 3
   },
   "file_extension": ".py",
   "mimetype": "text/x-python",
   "name": "python",
   "nbconvert_exporter": "python",
   "pygments_lexer": "ipython3",
   "version": "3.10.4"
  }
 },
 "nbformat": 4,
 "nbformat_minor": 5
}
