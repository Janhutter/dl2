{
 "cells": [
  {
   "cell_type": "code",
   "execution_count": null,
   "id": "eeac98ae",
   "metadata": {},
   "outputs": [
    {
     "name": "stdout",
     "output_type": "stream",
     "text": [
      "                        1       2       3       4       5      avg\n",
      "gaussian_noise     0.7804  0.8041  0.8250  0.8618  0.8979  0.83384\n",
      "shot_noise         0.7985  0.8395  0.8516  0.8985  0.9149  0.86060\n",
      "impulse_noise      0.7089  0.7666  0.8353  0.8659  0.9027  0.81588\n",
      "defocus_blur       0.8889  0.9207  0.9370  0.9394  0.9412  0.92544\n",
      "glass_blur         0.7129  0.7147  0.8062  0.8032  0.8114  0.76968\n",
      "motion_blur        0.8787  0.8974  0.8947  0.9103  0.9253  0.90128\n",
      "zoom_blur          0.8983  0.9133  0.9232  0.9305  0.9305  0.91916\n",
      "snow               0.8559  0.8579  0.8809  0.8863  0.9128  0.87876\n",
      "frost              0.8519  0.8798  0.8761  0.9037  0.9231  0.88692\n",
      "fog                0.8763  0.9210  0.9329  0.9385  0.9400  0.92174\n",
      "brightness         0.9235  0.9346  0.9367  0.9395  0.9407  0.93500\n",
      "contrast           0.8897  0.9203  0.9284  0.9332  0.9399  0.92230\n",
      "elastic_transform  0.7931  0.8600  0.9083  0.9190  0.9135  0.87878\n",
      "pixelate           0.8493  0.8886  0.9104  0.9178  0.9275  0.89872\n",
      "jpeg_compression   0.7912  0.8119  0.8342  0.8440  0.8848  0.83322\n",
      "                        1       2       3       4       5      avg\n",
      "gaussian_noise     0.2768  0.3261  0.3919  0.5787  0.7782  0.47034\n",
      "shot_noise         0.3426  0.4532  0.5349  0.7575  0.8505  0.58774\n",
      "impulse_noise      0.2707  0.4009  0.5737  0.6905  0.8286  0.55288\n",
      "defocus_blur       0.5301  0.7744  0.8898  0.9339  0.9457  0.81478\n",
      "glass_blur         0.4567  0.4318  0.5697  0.5576  0.5345  0.51006\n",
      "motion_blur        0.6524  0.7479  0.7441  0.8383  0.9028  0.77710\n",
      "zoom_blur          0.5799  0.7027  0.7744  0.8456  0.8771  0.75594\n",
      "snow               0.7487  0.8050  0.8364  0.8042  0.8994  0.81874\n",
      "frost              0.5868  0.7089  0.7260  0.8349  0.8953  0.75038\n",
      "fog                0.7398  0.8960  0.9229  0.9354  0.9452  0.88786\n",
      "brightness         0.9070  0.9282  0.9380  0.9440  0.9473  0.93290\n",
      "contrast           0.5336  0.8359  0.8966  0.9214  0.9426  0.82602\n",
      "elastic_transform  0.7340  0.7896  0.8584  0.9020  0.9049  0.83778\n",
      "pixelate           0.4156  0.6035  0.7998  0.8603  0.9197  0.71978\n",
      "jpeg_compression   0.6972  0.7414  0.7800  0.7967  0.8637  0.77580\n"
     ]
    },
    {
     "name": "stderr",
     "output_type": "stream",
     "text": [
      "/tmp/ipykernel_715544/3965015161.py:24: FutureWarning: The 'delim_whitespace' keyword in pd.read_csv is deprecated and will be removed in a future version. Use ``sep='\\s+'`` instead\n",
      "  df_new = pd.read_csv(StringIO(new), delim_whitespace=True, index_col=0)\n",
      "/tmp/ipykernel_715544/3965015161.py:49: FutureWarning: The 'delim_whitespace' keyword in pd.read_csv is deprecated and will be removed in a future version. Use ``sep='\\s+'`` instead\n",
      "  df_baseline = pd.read_csv(StringIO(baseline), delim_whitespace=True, index_col=0)\n"
     ]
    }
   ],
   "source": [
    "import pandas as pd\n",
    "from io import StringIO\n",
    "\n",
    "new_1 = \"\"\"\n",
    "                          1         2         3        4         5       avg\n",
    "gaussian_noise     0.780400  0.804100  0.825000  0.86180  0.897900  0.833840\n",
    "shot_noise         0.798500  0.839500  0.851600  0.89850  0.914900  0.860600\n",
    "impulse_noise      0.708900  0.766600  0.835300  0.86590  0.902700  0.815880\n",
    "defocus_blur       0.888900  0.920700  0.937000  0.93940  0.941200  0.925440\n",
    "glass_blur         0.712900  0.714700  0.806200  0.80320  0.811400  0.769680\n",
    "motion_blur        0.878700  0.897400  0.894700  0.91030  0.925300  0.901280\n",
    "zoom_blur          0.898300  0.913300  0.923200  0.93050  0.930500  0.919160\n",
    "snow               0.855900  0.857900  0.880900  0.88630  0.912800  0.878760\n",
    "frost              0.851900  0.879800  0.876100  0.90370  0.923100  0.886920\n",
    "fog                0.876300  0.921000  0.932900  0.93850  0.940000  0.921740\n",
    "brightness         0.923500  0.934600  0.936700  0.93950  0.940700  0.935000\n",
    "contrast           0.889700  0.920300  0.928400  0.93320  0.939900  0.922300\n",
    "elastic_transform  0.793100  0.860000  0.908300  0.91900  0.913500  0.878780\n",
    "pixelate           0.849300  0.888600  0.910400  0.91780  0.927500  0.898720\n",
    "jpeg_compression   0.791200  0.811900  0.834200  0.84400  0.884800  0.833220\n",
    "average            0.833167  0.862027  0.885393  0.89944  0.913747  0.878755\n",
    "\"\"\"\n",
    "\n",
    "df_new_1 = pd.read_csv(StringIO(new_1), delim_whitespace=True, index_col=0)\n",
    "# remove average row\n",
    "df_new_1 = df_new_1.drop(\"average\")\n",
    "\n",
    "baseline_1 = \"\"\"\n",
    "                          1         2         3       4         5      avg\n",
    "gaussian_noise     0.276800  0.326100  0.391900  0.5787  0.778200  0.47034\n",
    "shot_noise         0.342600  0.453200  0.534900  0.7575  0.850500  0.58774\n",
    "impulse_noise      0.270700  0.400900  0.573700  0.6905  0.828600  0.55288\n",
    "defocus_blur       0.530100  0.774400  0.889800  0.9339  0.945700  0.81478\n",
    "glass_blur         0.456700  0.431800  0.569700  0.5576  0.534500  0.51006\n",
    "motion_blur        0.652400  0.747900  0.744100  0.8383  0.902800  0.77710\n",
    "zoom_blur          0.579900  0.702700  0.774400  0.8456  0.877100  0.75594\n",
    "snow               0.748700  0.805000  0.836400  0.8042  0.899400  0.81874\n",
    "frost              0.586800  0.708900  0.726000  0.8349  0.895300  0.75038\n",
    "fog                0.739800  0.896000  0.922900  0.9354  0.945200  0.88786\n",
    "brightness         0.907000  0.928200  0.938000  0.9440  0.947300  0.93290\n",
    "contrast           0.533600  0.835900  0.896600  0.9214  0.942600  0.82602\n",
    "elastic_transform  0.734000  0.789600  0.858400  0.9020  0.904900  0.83778\n",
    "pixelate           0.415600  0.603500  0.799800  0.8603  0.919700  0.71978\n",
    "jpeg_compression   0.697200  0.741400  0.780000  0.7967  0.863700  0.77580\n",
    "average            0.564793  0.676367  0.749107  0.8134  0.869033  0.73454\n",
    "\"\"\"\n",
    "\n",
    "df_baseline_1 = pd.read_csv(StringIO(baseline_1), delim_whitespace=True, index_col=0)\n",
    "# remove average row\n",
    "df_baseline_1 = df_baseline_1.drop(\"average\")\n",
    "\n",
    "seeds = [1, 17, 36, 91, 511]"
   ]
  },
  {
   "cell_type": "code",
   "execution_count": 33,
   "id": "86d1d890",
   "metadata": {},
   "outputs": [
    {
     "name": "stdout",
     "output_type": "stream",
     "text": [
      "0.43712017743308185\n"
     ]
    }
   ],
   "source": [
    "number = (1-df_new['1'])/(1-df_baseline['1'])\n",
    "# mean\n",
    "number_mean = number.mean()\n",
    "print(number_mean)"
   ]
  },
  {
   "cell_type": "code",
   "execution_count": 36,
   "id": "a71b8cba",
   "metadata": {},
   "outputs": [
    {
     "name": "stdout",
     "output_type": "stream",
     "text": [
      "0.5772500490404283\n"
     ]
    }
   ],
   "source": [
    "number = (1-df_new)/(1-df_baseline)\n",
    "number_mean = number.mean().mean()\n",
    "print(number_mean)\n"
   ]
  },
  {
   "cell_type": "code",
   "execution_count": null,
   "id": "0317f454",
   "metadata": {},
   "outputs": [],
   "source": []
  }
 ],
 "metadata": {
  "kernelspec": {
   "display_name": "py3.11",
   "language": "python",
   "name": "python3"
  },
  "language_info": {
   "codemirror_mode": {
    "name": "ipython",
    "version": 3
   },
   "file_extension": ".py",
   "mimetype": "text/x-python",
   "name": "python",
   "nbconvert_exporter": "python",
   "pygments_lexer": "ipython3",
   "version": "3.11.5"
  }
 },
 "nbformat": 4,
 "nbformat_minor": 5
}
