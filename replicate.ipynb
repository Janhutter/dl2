{
 "cells": [
  {
   "cell_type": "markdown",
   "id": "5d0016bf",
   "metadata": {},
   "source": [
    "### Setting up the environment"
   ]
  },
  {
   "cell_type": "code",
   "execution_count": null,
   "id": "44953ef6",
   "metadata": {
    "vscode": {
     "languageId": "shellscript"
    }
   },
   "outputs": [],
   "source": [
    "%%bash\n",
    "python3.11 -m venv .venv\n",
    "\n",
    "source .venv/bin/activate\n",
    "\n",
    "pip install -r requirements.txt"
   ]
  },
  {
   "cell_type": "markdown",
   "id": "f8c69e61",
   "metadata": {},
   "source": [
    "### Replication of TEA"
   ]
  },
  {
   "cell_type": "code",
   "execution_count": null,
   "id": "a95dc0d5",
   "metadata": {
    "vscode": {
     "languageId": "shellscript"
    }
   },
   "outputs": [],
   "source": [
    "# pretraining the cifar100 and tin200 source models\n",
    "source .venv/bin/activate\n",
    "\n",
    "CUDA_VISIBLE_DEVICES=0 \n",
    "python train.py --cfg cfgs/cifar100/pretrain.yaml\n",
    "python train.py --cfg cfgs/tin200/pretrain.yaml"
   ]
  },
  {
   "cell_type": "code",
   "execution_count": null,
   "id": "81dea608",
   "metadata": {
    "vscode": {
     "languageId": "shellscript"
    }
   },
   "outputs": [],
   "source": [
    "%%bash\n",
    "\n",
    "source .venv/bin/activate\n",
    "\n",
    "bash run_all.sh"
   ]
  },
  {
   "cell_type": "markdown",
   "id": "7be88112",
   "metadata": {},
   "source": [
    "### Generating data distribution visualisations"
   ]
  },
  {
   "cell_type": "markdown",
   "id": "a3e2e9c4",
   "metadata": {},
   "source": [
    "Adapting a non-adapted model and generating images in the process:"
   ]
  },
  {
   "cell_type": "code",
   "execution_count": null,
   "id": "1272e7ef",
   "metadata": {
    "vscode": {
     "languageId": "shellscript"
    }
   },
   "outputs": [],
   "source": [
    "%%bash\n",
    "\n",
    "source .venv/bin/activate\n",
    "\n",
    "python main_visz.py --cfg cfgs/cifar10/energy_visz.yaml"
   ]
  },
  {
   "cell_type": "markdown",
   "id": "9a7d35af",
   "metadata": {},
   "source": [
    "Loading pretrained weights of an adapted model and generating images from it (provide path to weights in CFG.MODEL.CHECKPOINT_PATH):"
   ]
  },
  {
   "cell_type": "code",
   "execution_count": null,
   "id": "7ac53ace",
   "metadata": {
    "vscode": {
     "languageId": "shellscript"
    }
   },
   "outputs": [],
   "source": [
    "%%bash\n",
    "\n",
    "source .venv/bin/activate\n",
    "\n",
    "python main_visz_pt.py --cfg cfgs/cifar10/energy_visz_pt.yaml"
   ]
  },
  {
   "cell_type": "markdown",
   "id": "57c8d98b",
   "metadata": {},
   "source": [
    "### TET results"
   ]
  },
  {
   "cell_type": "code",
   "execution_count": null,
   "id": "eef41aad",
   "metadata": {
    "vscode": {
     "languageId": "shellscript"
    }
   },
   "outputs": [],
   "source": [
    "%%bash\n",
    "\n",
    "source .venv/bin/activate\n",
    "\n",
    "# pretraining\n",
    "python train_TET_energy_scheduler.py --cfg cfgs/cifar10/pretrain_TET.yaml\n",
    "python train_TET_energy_scheduler.py --cfg cfgs/cifar100/pretrain_TET.yaml\n",
    "\n",
    "python main.py --cfg cfgs/cifar10/energy_tet.yaml RNG_SEED 1\n",
    "python main.py --cfg cfgs/cifar10/energy_tet.yaml RNG_SEED 17\n",
    "python main.py --cfg cfgs/cifar10/energy_tet.yaml RNG_SEED 36\n",
    "python main.py --cfg cfgs/cifar10/energy_tet.yaml RNG_SEED 91\n",
    "python main.py --cfg cfgs/cifar10/energy_tet.yaml RNG_SEED 511\n",
    "\n",
    "python main.py --cfg cfgs/cifar100/energy_tet.yaml RNG_SEED 1\n",
    "python main.py --cfg cfgs/cifar100/energy_tet.yaml RNG_SEED 17\n",
    "python main.py --cfg cfgs/cifar100/energy_tet.yaml RNG_SEED 36\n",
    "python main.py --cfg cfgs/cifar100/energy_tet.yaml RNG_SEED 91\n",
    "python main.py --cfg cfgs/cifar100/energy_tet.yaml RNG_SEED 511"
   ]
  },
  {
   "cell_type": "markdown",
   "id": "d33c58ad",
   "metadata": {},
   "source": [
    "### TTT results"
   ]
  },
  {
   "cell_type": "code",
   "execution_count": null,
   "id": "e453eb75",
   "metadata": {
    "vscode": {
     "languageId": "shellscript"
    }
   },
   "outputs": [],
   "source": [
    "%%bash\n",
    "\n",
    "source .venv/bin/activate\n",
    "\n",
    "# brandon klopt dit?\n",
    "\n",
    "python train_TTT.py --cfg cfgs/cifar10/pretrain_TTT.yaml\n",
    "python train_TTT.py --cfg cfgs/cifar100/pretrain_TTT.yaml\n",
    "\n",
    "python main.py --cfg cfgs/cifar10/ttt.yaml RNG_SEED 1\n",
    "python main.py --cfg cfgs/cifar10/ttt.yaml RNG_SEED 17\n",
    "python main.py --cfg cfgs/cifar10/ttt.yaml RNG_SEED 36\n",
    "python main.py --cfg cfgs/cifar10/ttt.yaml RNG_SEED 91\n",
    "python main.py --cfg cfgs/cifar10/ttt.yaml RNG_SEED 511\n",
    "\n",
    "python main.py --cfg cfgs/cifar100/ttt.yaml RNG_SEED 1\n",
    "python main.py --cfg cfgs/cifar100/ttt.yaml RNG_SEED 17\n",
    "python main.py --cfg cfgs/cifar100/ttt.yaml RNG_SEED 36\n",
    "python main.py --cfg cfgs/cifar100/ttt.yaml RNG_SEED 91\n",
    "python main.py --cfg cfgs/cifar100/ttt.yaml RNG_SEED 511\n",
    "\n"
   ]
  },
  {
   "cell_type": "markdown",
   "id": "e42959ce",
   "metadata": {},
   "source": [
    "### ViT results"
   ]
  },
  {
   "cell_type": "code",
   "execution_count": null,
   "id": "673c3d6e",
   "metadata": {
    "vscode": {
     "languageId": "shellscript"
    }
   },
   "outputs": [],
   "source": [
    "%%bash\n",
    "\n",
    "source .venv/bin/activate\n",
    "\n",
    "python train.py --cfg cfgs/vit/cifar10/pretrain.yaml \n",
    "python train.py --cfg cfgs/vit/cifar100/pretrain.yaml \n",
    "\n",
    "bash run_all_vit.sh\n"
   ]
  },
  {
   "cell_type": "markdown",
   "id": "229d37dd",
   "metadata": {},
   "source": [
    "### Compiling results\n",
    "Take a look at `compile_results.py`, it might help compiling the output files into latex table rows, similar to that done in our report."
   ]
  }
 ],
 "metadata": {
  "language_info": {
   "name": "python"
  }
 },
 "nbformat": 4,
 "nbformat_minor": 5
}
